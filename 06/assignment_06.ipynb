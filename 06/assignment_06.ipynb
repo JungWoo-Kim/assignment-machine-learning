{
 "cells": [
  {
   "cell_type": "markdown",
   "metadata": {},
   "source": [
    "# Linear Regression "
   ]
  },
  {
   "cell_type": "markdown",
   "metadata": {},
   "source": [
    "## import library"
   ]
  },
  {
   "cell_type": "code",
   "execution_count": 1,
   "metadata": {},
   "outputs": [],
   "source": [
    "import numpy as np\n",
    "import matplotlib.image as img\n",
    "import matplotlib.pyplot as plt\n",
    "import matplotlib.colors as colors\n",
    "from mpl_toolkits.mplot3d import Axes3D"
   ]
  },
  {
   "cell_type": "markdown",
   "metadata": {},
   "source": [
    "## load point data "
   ]
  },
  {
   "cell_type": "code",
   "execution_count": 2,
   "metadata": {},
   "outputs": [
    {
     "output_type": "display_data",
     "data": {
      "text/plain": "<Figure size 576x576 with 1 Axes>",
      "image/svg+xml": "<?xml version=\"1.0\" encoding=\"utf-8\" standalone=\"no\"?>\r\n<!DOCTYPE svg PUBLIC \"-//W3C//DTD SVG 1.1//EN\"\r\n  \"http://www.w3.org/Graphics/SVG/1.1/DTD/svg11.dtd\">\r\n<!-- Created with matplotlib (https://matplotlib.org/) -->\r\n<svg height=\"567.59625pt\" version=\"1.1\" viewBox=\"0 0 568.904688 567.59625\" width=\"568.904688pt\" xmlns=\"http://www.w3.org/2000/svg\" xmlns:xlink=\"http://www.w3.org/1999/xlink\">\r\n <metadata>\r\n  <rdf:RDF xmlns:cc=\"http://creativecommons.org/ns#\" xmlns:dc=\"http://purl.org/dc/elements/1.1/\" xmlns:rdf=\"http://www.w3.org/1999/02/22-rdf-syntax-ns#\">\r\n   <cc:Work>\r\n    <dc:type rdf:resource=\"http://purl.org/dc/dcmitype/StillImage\"/>\r\n    <dc:date>2021-04-13T11:00:39.153260</dc:date>\r\n    <dc:format>image/svg+xml</dc:format>\r\n    <dc:creator>\r\n     <cc:Agent>\r\n      <dc:title>Matplotlib v3.3.3, https://matplotlib.org/</dc:title>\r\n     </cc:Agent>\r\n    </dc:creator>\r\n   </cc:Work>\r\n  </rdf:RDF>\r\n </metadata>\r\n <defs>\r\n  <style type=\"text/css\">*{stroke-linecap:butt;stroke-linejoin:round;}</style>\r\n </defs>\r\n <g id=\"figure_1\">\r\n  <g id=\"patch_1\">\r\n   <path d=\"M 0 567.59625 \r\nL 568.904688 567.59625 \r\nL 568.904688 0 \r\nL 0 0 \r\nz\r\n\" style=\"fill:none;\"/>\r\n  </g>\r\n  <g id=\"axes_1\">\r\n   <g id=\"patch_2\">\r\n    <path d=\"M 35.304688 543.718125 \r\nL 561.704687 543.718125 \r\nL 561.704687 22.318125 \r\nL 35.304688 22.318125 \r\nz\r\n\" style=\"fill:#ffffff;\"/>\r\n   </g>\r\n   <g id=\"matplotlib.axis_1\">\r\n    <g id=\"xtick_1\">\r\n     <g id=\"line2d_1\">\r\n      <defs>\r\n       <path d=\"M 0 0 \r\nL 0 3.5 \r\n\" id=\"m971f66ea9e\" style=\"stroke:#000000;stroke-width:0.8;\"/>\r\n      </defs>\r\n      <g>\r\n       <use style=\"stroke:#000000;stroke-width:0.8;\" x=\"59.23196\" xlink:href=\"#m971f66ea9e\" y=\"543.718125\"/>\r\n      </g>\r\n     </g>\r\n     <g id=\"text_1\">\r\n      <!-- −10.0 -->\r\n      <g transform=\"translate(43.909304 558.316562)scale(0.1 -0.1)\">\r\n       <defs>\r\n        <path d=\"M 10.59375 35.5 \r\nL 73.1875 35.5 \r\nL 73.1875 27.203125 \r\nL 10.59375 27.203125 \r\nz\r\n\" id=\"DejaVuSans-8722\"/>\r\n        <path d=\"M 12.40625 8.296875 \r\nL 28.515625 8.296875 \r\nL 28.515625 63.921875 \r\nL 10.984375 60.40625 \r\nL 10.984375 69.390625 \r\nL 28.421875 72.90625 \r\nL 38.28125 72.90625 \r\nL 38.28125 8.296875 \r\nL 54.390625 8.296875 \r\nL 54.390625 0 \r\nL 12.40625 0 \r\nz\r\n\" id=\"DejaVuSans-49\"/>\r\n        <path d=\"M 31.78125 66.40625 \r\nQ 24.171875 66.40625 20.328125 58.90625 \r\nQ 16.5 51.421875 16.5 36.375 \r\nQ 16.5 21.390625 20.328125 13.890625 \r\nQ 24.171875 6.390625 31.78125 6.390625 \r\nQ 39.453125 6.390625 43.28125 13.890625 \r\nQ 47.125 21.390625 47.125 36.375 \r\nQ 47.125 51.421875 43.28125 58.90625 \r\nQ 39.453125 66.40625 31.78125 66.40625 \r\nz\r\nM 31.78125 74.21875 \r\nQ 44.046875 74.21875 50.515625 64.515625 \r\nQ 56.984375 54.828125 56.984375 36.375 \r\nQ 56.984375 17.96875 50.515625 8.265625 \r\nQ 44.046875 -1.421875 31.78125 -1.421875 \r\nQ 19.53125 -1.421875 13.0625 8.265625 \r\nQ 6.59375 17.96875 6.59375 36.375 \r\nQ 6.59375 54.828125 13.0625 64.515625 \r\nQ 19.53125 74.21875 31.78125 74.21875 \r\nz\r\n\" id=\"DejaVuSans-48\"/>\r\n        <path d=\"M 10.6875 12.40625 \r\nL 21 12.40625 \r\nL 21 0 \r\nL 10.6875 0 \r\nz\r\n\" id=\"DejaVuSans-46\"/>\r\n       </defs>\r\n       <use xlink:href=\"#DejaVuSans-8722\"/>\r\n       <use x=\"83.789062\" xlink:href=\"#DejaVuSans-49\"/>\r\n       <use x=\"147.412109\" xlink:href=\"#DejaVuSans-48\"/>\r\n       <use x=\"211.035156\" xlink:href=\"#DejaVuSans-46\"/>\r\n       <use x=\"242.822266\" xlink:href=\"#DejaVuSans-48\"/>\r\n      </g>\r\n     </g>\r\n    </g>\r\n    <g id=\"xtick_2\">\r\n     <g id=\"line2d_2\">\r\n      <g>\r\n       <use style=\"stroke:#000000;stroke-width:0.8;\" x=\"119.050142\" xlink:href=\"#m971f66ea9e\" y=\"543.718125\"/>\r\n      </g>\r\n     </g>\r\n     <g id=\"text_2\">\r\n      <!-- −7.5 -->\r\n      <g transform=\"translate(106.908736 558.316562)scale(0.1 -0.1)\">\r\n       <defs>\r\n        <path d=\"M 8.203125 72.90625 \r\nL 55.078125 72.90625 \r\nL 55.078125 68.703125 \r\nL 28.609375 0 \r\nL 18.3125 0 \r\nL 43.21875 64.59375 \r\nL 8.203125 64.59375 \r\nz\r\n\" id=\"DejaVuSans-55\"/>\r\n        <path d=\"M 10.796875 72.90625 \r\nL 49.515625 72.90625 \r\nL 49.515625 64.59375 \r\nL 19.828125 64.59375 \r\nL 19.828125 46.734375 \r\nQ 21.96875 47.46875 24.109375 47.828125 \r\nQ 26.265625 48.1875 28.421875 48.1875 \r\nQ 40.625 48.1875 47.75 41.5 \r\nQ 54.890625 34.8125 54.890625 23.390625 \r\nQ 54.890625 11.625 47.5625 5.09375 \r\nQ 40.234375 -1.421875 26.90625 -1.421875 \r\nQ 22.3125 -1.421875 17.546875 -0.640625 \r\nQ 12.796875 0.140625 7.71875 1.703125 \r\nL 7.71875 11.625 \r\nQ 12.109375 9.234375 16.796875 8.0625 \r\nQ 21.484375 6.890625 26.703125 6.890625 \r\nQ 35.15625 6.890625 40.078125 11.328125 \r\nQ 45.015625 15.765625 45.015625 23.390625 \r\nQ 45.015625 31 40.078125 35.4375 \r\nQ 35.15625 39.890625 26.703125 39.890625 \r\nQ 22.75 39.890625 18.8125 39.015625 \r\nQ 14.890625 38.140625 10.796875 36.28125 \r\nz\r\n\" id=\"DejaVuSans-53\"/>\r\n       </defs>\r\n       <use xlink:href=\"#DejaVuSans-8722\"/>\r\n       <use x=\"83.789062\" xlink:href=\"#DejaVuSans-55\"/>\r\n       <use x=\"147.412109\" xlink:href=\"#DejaVuSans-46\"/>\r\n       <use x=\"179.199219\" xlink:href=\"#DejaVuSans-53\"/>\r\n      </g>\r\n     </g>\r\n    </g>\r\n    <g id=\"xtick_3\">\r\n     <g id=\"line2d_3\">\r\n      <g>\r\n       <use style=\"stroke:#000000;stroke-width:0.8;\" x=\"178.868324\" xlink:href=\"#m971f66ea9e\" y=\"543.718125\"/>\r\n      </g>\r\n     </g>\r\n     <g id=\"text_3\">\r\n      <!-- −5.0 -->\r\n      <g transform=\"translate(166.726918 558.316562)scale(0.1 -0.1)\">\r\n       <use xlink:href=\"#DejaVuSans-8722\"/>\r\n       <use x=\"83.789062\" xlink:href=\"#DejaVuSans-53\"/>\r\n       <use x=\"147.412109\" xlink:href=\"#DejaVuSans-46\"/>\r\n       <use x=\"179.199219\" xlink:href=\"#DejaVuSans-48\"/>\r\n      </g>\r\n     </g>\r\n    </g>\r\n    <g id=\"xtick_4\">\r\n     <g id=\"line2d_4\">\r\n      <g>\r\n       <use style=\"stroke:#000000;stroke-width:0.8;\" x=\"238.686506\" xlink:href=\"#m971f66ea9e\" y=\"543.718125\"/>\r\n      </g>\r\n     </g>\r\n     <g id=\"text_4\">\r\n      <!-- −2.5 -->\r\n      <g transform=\"translate(226.545099 558.316562)scale(0.1 -0.1)\">\r\n       <defs>\r\n        <path d=\"M 19.1875 8.296875 \r\nL 53.609375 8.296875 \r\nL 53.609375 0 \r\nL 7.328125 0 \r\nL 7.328125 8.296875 \r\nQ 12.9375 14.109375 22.625 23.890625 \r\nQ 32.328125 33.6875 34.8125 36.53125 \r\nQ 39.546875 41.84375 41.421875 45.53125 \r\nQ 43.3125 49.21875 43.3125 52.78125 \r\nQ 43.3125 58.59375 39.234375 62.25 \r\nQ 35.15625 65.921875 28.609375 65.921875 \r\nQ 23.96875 65.921875 18.8125 64.3125 \r\nQ 13.671875 62.703125 7.8125 59.421875 \r\nL 7.8125 69.390625 \r\nQ 13.765625 71.78125 18.9375 73 \r\nQ 24.125 74.21875 28.421875 74.21875 \r\nQ 39.75 74.21875 46.484375 68.546875 \r\nQ 53.21875 62.890625 53.21875 53.421875 \r\nQ 53.21875 48.921875 51.53125 44.890625 \r\nQ 49.859375 40.875 45.40625 35.40625 \r\nQ 44.1875 33.984375 37.640625 27.21875 \r\nQ 31.109375 20.453125 19.1875 8.296875 \r\nz\r\n\" id=\"DejaVuSans-50\"/>\r\n       </defs>\r\n       <use xlink:href=\"#DejaVuSans-8722\"/>\r\n       <use x=\"83.789062\" xlink:href=\"#DejaVuSans-50\"/>\r\n       <use x=\"147.412109\" xlink:href=\"#DejaVuSans-46\"/>\r\n       <use x=\"179.199219\" xlink:href=\"#DejaVuSans-53\"/>\r\n      </g>\r\n     </g>\r\n    </g>\r\n    <g id=\"xtick_5\">\r\n     <g id=\"line2d_5\">\r\n      <g>\r\n       <use style=\"stroke:#000000;stroke-width:0.8;\" x=\"298.504687\" xlink:href=\"#m971f66ea9e\" y=\"543.718125\"/>\r\n      </g>\r\n     </g>\r\n     <g id=\"text_5\">\r\n      <!-- 0.0 -->\r\n      <g transform=\"translate(290.553125 558.316562)scale(0.1 -0.1)\">\r\n       <use xlink:href=\"#DejaVuSans-48\"/>\r\n       <use x=\"63.623047\" xlink:href=\"#DejaVuSans-46\"/>\r\n       <use x=\"95.410156\" xlink:href=\"#DejaVuSans-48\"/>\r\n      </g>\r\n     </g>\r\n    </g>\r\n    <g id=\"xtick_6\">\r\n     <g id=\"line2d_6\">\r\n      <g>\r\n       <use style=\"stroke:#000000;stroke-width:0.8;\" x=\"358.322869\" xlink:href=\"#m971f66ea9e\" y=\"543.718125\"/>\r\n      </g>\r\n     </g>\r\n     <g id=\"text_6\">\r\n      <!-- 2.5 -->\r\n      <g transform=\"translate(350.371307 558.316562)scale(0.1 -0.1)\">\r\n       <use xlink:href=\"#DejaVuSans-50\"/>\r\n       <use x=\"63.623047\" xlink:href=\"#DejaVuSans-46\"/>\r\n       <use x=\"95.410156\" xlink:href=\"#DejaVuSans-53\"/>\r\n      </g>\r\n     </g>\r\n    </g>\r\n    <g id=\"xtick_7\">\r\n     <g id=\"line2d_7\">\r\n      <g>\r\n       <use style=\"stroke:#000000;stroke-width:0.8;\" x=\"418.141051\" xlink:href=\"#m971f66ea9e\" y=\"543.718125\"/>\r\n      </g>\r\n     </g>\r\n     <g id=\"text_7\">\r\n      <!-- 5.0 -->\r\n      <g transform=\"translate(410.189489 558.316562)scale(0.1 -0.1)\">\r\n       <use xlink:href=\"#DejaVuSans-53\"/>\r\n       <use x=\"63.623047\" xlink:href=\"#DejaVuSans-46\"/>\r\n       <use x=\"95.410156\" xlink:href=\"#DejaVuSans-48\"/>\r\n      </g>\r\n     </g>\r\n    </g>\r\n    <g id=\"xtick_8\">\r\n     <g id=\"line2d_8\">\r\n      <g>\r\n       <use style=\"stroke:#000000;stroke-width:0.8;\" x=\"477.959233\" xlink:href=\"#m971f66ea9e\" y=\"543.718125\"/>\r\n      </g>\r\n     </g>\r\n     <g id=\"text_8\">\r\n      <!-- 7.5 -->\r\n      <g transform=\"translate(470.00767 558.316562)scale(0.1 -0.1)\">\r\n       <use xlink:href=\"#DejaVuSans-55\"/>\r\n       <use x=\"63.623047\" xlink:href=\"#DejaVuSans-46\"/>\r\n       <use x=\"95.410156\" xlink:href=\"#DejaVuSans-53\"/>\r\n      </g>\r\n     </g>\r\n    </g>\r\n    <g id=\"xtick_9\">\r\n     <g id=\"line2d_9\">\r\n      <g>\r\n       <use style=\"stroke:#000000;stroke-width:0.8;\" x=\"537.777415\" xlink:href=\"#m971f66ea9e\" y=\"543.718125\"/>\r\n      </g>\r\n     </g>\r\n     <g id=\"text_9\">\r\n      <!-- 10.0 -->\r\n      <g transform=\"translate(526.644602 558.316562)scale(0.1 -0.1)\">\r\n       <use xlink:href=\"#DejaVuSans-49\"/>\r\n       <use x=\"63.623047\" xlink:href=\"#DejaVuSans-48\"/>\r\n       <use x=\"127.246094\" xlink:href=\"#DejaVuSans-46\"/>\r\n       <use x=\"159.033203\" xlink:href=\"#DejaVuSans-48\"/>\r\n      </g>\r\n     </g>\r\n    </g>\r\n   </g>\r\n   <g id=\"matplotlib.axis_2\">\r\n    <g id=\"ytick_1\">\r\n     <g id=\"line2d_10\">\r\n      <defs>\r\n       <path d=\"M 0 0 \r\nL -3.5 0 \r\n\" id=\"m38b3674dde\" style=\"stroke:#000000;stroke-width:0.8;\"/>\r\n      </defs>\r\n      <g>\r\n       <use style=\"stroke:#000000;stroke-width:0.8;\" x=\"35.304688\" xlink:href=\"#m38b3674dde\" y=\"509.935023\"/>\r\n      </g>\r\n     </g>\r\n     <g id=\"text_10\">\r\n      <!-- −20 -->\r\n      <g transform=\"translate(7.2 513.734242)scale(0.1 -0.1)\">\r\n       <use xlink:href=\"#DejaVuSans-8722\"/>\r\n       <use x=\"83.789062\" xlink:href=\"#DejaVuSans-50\"/>\r\n       <use x=\"147.412109\" xlink:href=\"#DejaVuSans-48\"/>\r\n      </g>\r\n     </g>\r\n    </g>\r\n    <g id=\"ytick_2\">\r\n     <g id=\"line2d_11\">\r\n      <g>\r\n       <use style=\"stroke:#000000;stroke-width:0.8;\" x=\"35.304688\" xlink:href=\"#m38b3674dde\" y=\"409.427839\"/>\r\n      </g>\r\n     </g>\r\n     <g id=\"text_11\">\r\n      <!-- −10 -->\r\n      <g transform=\"translate(7.2 413.227058)scale(0.1 -0.1)\">\r\n       <use xlink:href=\"#DejaVuSans-8722\"/>\r\n       <use x=\"83.789062\" xlink:href=\"#DejaVuSans-49\"/>\r\n       <use x=\"147.412109\" xlink:href=\"#DejaVuSans-48\"/>\r\n      </g>\r\n     </g>\r\n    </g>\r\n    <g id=\"ytick_3\">\r\n     <g id=\"line2d_12\">\r\n      <g>\r\n       <use style=\"stroke:#000000;stroke-width:0.8;\" x=\"35.304688\" xlink:href=\"#m38b3674dde\" y=\"308.920656\"/>\r\n      </g>\r\n     </g>\r\n     <g id=\"text_12\">\r\n      <!-- 0 -->\r\n      <g transform=\"translate(21.942187 312.719874)scale(0.1 -0.1)\">\r\n       <use xlink:href=\"#DejaVuSans-48\"/>\r\n      </g>\r\n     </g>\r\n    </g>\r\n    <g id=\"ytick_4\">\r\n     <g id=\"line2d_13\">\r\n      <g>\r\n       <use style=\"stroke:#000000;stroke-width:0.8;\" x=\"35.304688\" xlink:href=\"#m38b3674dde\" y=\"208.413472\"/>\r\n      </g>\r\n     </g>\r\n     <g id=\"text_13\">\r\n      <!-- 10 -->\r\n      <g transform=\"translate(15.579687 212.21269)scale(0.1 -0.1)\">\r\n       <use xlink:href=\"#DejaVuSans-49\"/>\r\n       <use x=\"63.623047\" xlink:href=\"#DejaVuSans-48\"/>\r\n      </g>\r\n     </g>\r\n    </g>\r\n    <g id=\"ytick_5\">\r\n     <g id=\"line2d_14\">\r\n      <g>\r\n       <use style=\"stroke:#000000;stroke-width:0.8;\" x=\"35.304688\" xlink:href=\"#m38b3674dde\" y=\"107.906288\"/>\r\n      </g>\r\n     </g>\r\n     <g id=\"text_14\">\r\n      <!-- 20 -->\r\n      <g transform=\"translate(15.579687 111.705507)scale(0.1 -0.1)\">\r\n       <use xlink:href=\"#DejaVuSans-50\"/>\r\n       <use x=\"63.623047\" xlink:href=\"#DejaVuSans-48\"/>\r\n      </g>\r\n     </g>\r\n    </g>\r\n   </g>\r\n   <g id=\"line2d_15\">\r\n    <defs>\r\n     <path d=\"M 0 1.5 \r\nC 0.397805 1.5 0.77937 1.341951 1.06066 1.06066 \r\nC 1.341951 0.77937 1.5 0.397805 1.5 0 \r\nC 1.5 -0.397805 1.341951 -0.77937 1.06066 -1.06066 \r\nC 0.77937 -1.341951 0.397805 -1.5 0 -1.5 \r\nC -0.397805 -1.5 -0.77937 -1.341951 -1.06066 -1.06066 \r\nC -1.341951 -0.77937 -1.5 -0.397805 -1.5 0 \r\nC -1.5 0.397805 -1.341951 0.77937 -1.06066 1.06066 \r\nC -0.77937 1.341951 -0.397805 1.5 0 1.5 \r\nz\r\n\" id=\"mfab3aa611e\" style=\"stroke:#0000ff;\"/>\r\n    </defs>\r\n    <g clip-path=\"url(#pd3cc141a46)\">\r\n     <use style=\"fill:#0000ff;stroke:#0000ff;\" x=\"59.23196\" xlink:href=\"#mfab3aa611e\" y=\"439.687095\"/>\r\n     <use style=\"fill:#0000ff;stroke:#0000ff;\" x=\"61.1086\" xlink:href=\"#mfab3aa611e\" y=\"507.078478\"/>\r\n     <use style=\"fill:#0000ff;stroke:#0000ff;\" x=\"62.985264\" xlink:href=\"#mfab3aa611e\" y=\"501.342785\"/>\r\n     <use style=\"fill:#0000ff;stroke:#0000ff;\" x=\"64.861904\" xlink:href=\"#mfab3aa611e\" y=\"473.568248\"/>\r\n     <use style=\"fill:#0000ff;stroke:#0000ff;\" x=\"66.738544\" xlink:href=\"#mfab3aa611e\" y=\"449.015247\"/>\r\n     <use style=\"fill:#0000ff;stroke:#0000ff;\" x=\"68.615208\" xlink:href=\"#mfab3aa611e\" y=\"462.205207\"/>\r\n     <use style=\"fill:#0000ff;stroke:#0000ff;\" x=\"70.491848\" xlink:href=\"#mfab3aa611e\" y=\"490.761981\"/>\r\n     <use style=\"fill:#0000ff;stroke:#0000ff;\" x=\"72.368512\" xlink:href=\"#mfab3aa611e\" y=\"497.00589\"/>\r\n     <use style=\"fill:#0000ff;stroke:#0000ff;\" x=\"74.245151\" xlink:href=\"#mfab3aa611e\" y=\"420.274273\"/>\r\n     <use style=\"fill:#0000ff;stroke:#0000ff;\" x=\"76.121791\" xlink:href=\"#mfab3aa611e\" y=\"437.225855\"/>\r\n     <use style=\"fill:#0000ff;stroke:#0000ff;\" x=\"77.998455\" xlink:href=\"#mfab3aa611e\" y=\"410.656359\"/>\r\n     <use style=\"fill:#0000ff;stroke:#0000ff;\" x=\"79.875095\" xlink:href=\"#mfab3aa611e\" y=\"435.080338\"/>\r\n     <use style=\"fill:#0000ff;stroke:#0000ff;\" x=\"81.751735\" xlink:href=\"#mfab3aa611e\" y=\"407.933408\"/>\r\n     <use style=\"fill:#0000ff;stroke:#0000ff;\" x=\"83.628399\" xlink:href=\"#mfab3aa611e\" y=\"465.221759\"/>\r\n     <use style=\"fill:#0000ff;stroke:#0000ff;\" x=\"85.505039\" xlink:href=\"#mfab3aa611e\" y=\"472.565658\"/>\r\n     <use style=\"fill:#0000ff;stroke:#0000ff;\" x=\"87.381703\" xlink:href=\"#mfab3aa611e\" y=\"477.546684\"/>\r\n     <use style=\"fill:#0000ff;stroke:#0000ff;\" x=\"89.258343\" xlink:href=\"#mfab3aa611e\" y=\"454.565153\"/>\r\n     <use style=\"fill:#0000ff;stroke:#0000ff;\" x=\"91.134983\" xlink:href=\"#mfab3aa611e\" y=\"520.018125\"/>\r\n     <use style=\"fill:#0000ff;stroke:#0000ff;\" x=\"93.011646\" xlink:href=\"#mfab3aa611e\" y=\"447.928433\"/>\r\n     <use style=\"fill:#0000ff;stroke:#0000ff;\" x=\"94.888286\" xlink:href=\"#mfab3aa611e\" y=\"459.696085\"/>\r\n     <use style=\"fill:#0000ff;stroke:#0000ff;\" x=\"96.764926\" xlink:href=\"#mfab3aa611e\" y=\"433.357132\"/>\r\n     <use style=\"fill:#0000ff;stroke:#0000ff;\" x=\"98.64159\" xlink:href=\"#mfab3aa611e\" y=\"445.038861\"/>\r\n     <use style=\"fill:#0000ff;stroke:#0000ff;\" x=\"100.51823\" xlink:href=\"#mfab3aa611e\" y=\"444.823354\"/>\r\n     <use style=\"fill:#0000ff;stroke:#0000ff;\" x=\"102.394894\" xlink:href=\"#mfab3aa611e\" y=\"483.57218\"/>\r\n     <use style=\"fill:#0000ff;stroke:#0000ff;\" x=\"104.271534\" xlink:href=\"#mfab3aa611e\" y=\"509.186134\"/>\r\n     <use style=\"fill:#0000ff;stroke:#0000ff;\" x=\"106.148174\" xlink:href=\"#mfab3aa611e\" y=\"456.903815\"/>\r\n     <use style=\"fill:#0000ff;stroke:#0000ff;\" x=\"108.024838\" xlink:href=\"#mfab3aa611e\" y=\"421.556825\"/>\r\n     <use style=\"fill:#0000ff;stroke:#0000ff;\" x=\"109.901478\" xlink:href=\"#mfab3aa611e\" y=\"403.138733\"/>\r\n     <use style=\"fill:#0000ff;stroke:#0000ff;\" x=\"111.778117\" xlink:href=\"#mfab3aa611e\" y=\"447.923699\"/>\r\n     <use style=\"fill:#0000ff;stroke:#0000ff;\" x=\"113.654781\" xlink:href=\"#mfab3aa611e\" y=\"385.432774\"/>\r\n     <use style=\"fill:#0000ff;stroke:#0000ff;\" x=\"115.531421\" xlink:href=\"#mfab3aa611e\" y=\"481.71143\"/>\r\n     <use style=\"fill:#0000ff;stroke:#0000ff;\" x=\"117.408085\" xlink:href=\"#mfab3aa611e\" y=\"390.587808\"/>\r\n     <use style=\"fill:#0000ff;stroke:#0000ff;\" x=\"119.284725\" xlink:href=\"#mfab3aa611e\" y=\"421.731115\"/>\r\n     <use style=\"fill:#0000ff;stroke:#0000ff;\" x=\"121.161365\" xlink:href=\"#mfab3aa611e\" y=\"431.731117\"/>\r\n     <use style=\"fill:#0000ff;stroke:#0000ff;\" x=\"123.038029\" xlink:href=\"#mfab3aa611e\" y=\"441.885378\"/>\r\n     <use style=\"fill:#0000ff;stroke:#0000ff;\" x=\"124.914669\" xlink:href=\"#mfab3aa611e\" y=\"372.689227\"/>\r\n     <use style=\"fill:#0000ff;stroke:#0000ff;\" x=\"126.791309\" xlink:href=\"#mfab3aa611e\" y=\"379.684367\"/>\r\n     <use style=\"fill:#0000ff;stroke:#0000ff;\" x=\"128.667973\" xlink:href=\"#mfab3aa611e\" y=\"410.762545\"/>\r\n     <use style=\"fill:#0000ff;stroke:#0000ff;\" x=\"130.544612\" xlink:href=\"#mfab3aa611e\" y=\"442.715979\"/>\r\n     <use style=\"fill:#0000ff;stroke:#0000ff;\" x=\"132.421276\" xlink:href=\"#mfab3aa611e\" y=\"405.769971\"/>\r\n     <use style=\"fill:#0000ff;stroke:#0000ff;\" x=\"134.297916\" xlink:href=\"#mfab3aa611e\" y=\"390.051351\"/>\r\n     <use style=\"fill:#0000ff;stroke:#0000ff;\" x=\"136.174556\" xlink:href=\"#mfab3aa611e\" y=\"467.034225\"/>\r\n     <use style=\"fill:#0000ff;stroke:#0000ff;\" x=\"138.05122\" xlink:href=\"#mfab3aa611e\" y=\"440.575599\"/>\r\n     <use style=\"fill:#0000ff;stroke:#0000ff;\" x=\"139.92786\" xlink:href=\"#mfab3aa611e\" y=\"431.728363\"/>\r\n     <use style=\"fill:#0000ff;stroke:#0000ff;\" x=\"141.8045\" xlink:href=\"#mfab3aa611e\" y=\"394.574767\"/>\r\n     <use style=\"fill:#0000ff;stroke:#0000ff;\" x=\"143.681164\" xlink:href=\"#mfab3aa611e\" y=\"458.800204\"/>\r\n     <use style=\"fill:#0000ff;stroke:#0000ff;\" x=\"145.557804\" xlink:href=\"#mfab3aa611e\" y=\"412.126719\"/>\r\n     <use style=\"fill:#0000ff;stroke:#0000ff;\" x=\"147.434468\" xlink:href=\"#mfab3aa611e\" y=\"366.309705\"/>\r\n     <use style=\"fill:#0000ff;stroke:#0000ff;\" x=\"149.311107\" xlink:href=\"#mfab3aa611e\" y=\"394.500593\"/>\r\n     <use style=\"fill:#0000ff;stroke:#0000ff;\" x=\"151.187747\" xlink:href=\"#mfab3aa611e\" y=\"414.151687\"/>\r\n     <use style=\"fill:#0000ff;stroke:#0000ff;\" x=\"153.064411\" xlink:href=\"#mfab3aa611e\" y=\"332.431788\"/>\r\n     <use style=\"fill:#0000ff;stroke:#0000ff;\" x=\"154.941051\" xlink:href=\"#mfab3aa611e\" y=\"423.025245\"/>\r\n     <use style=\"fill:#0000ff;stroke:#0000ff;\" x=\"156.817691\" xlink:href=\"#mfab3aa611e\" y=\"415.003013\"/>\r\n     <use style=\"fill:#0000ff;stroke:#0000ff;\" x=\"158.694355\" xlink:href=\"#mfab3aa611e\" y=\"384.268881\"/>\r\n     <use style=\"fill:#0000ff;stroke:#0000ff;\" x=\"160.570995\" xlink:href=\"#mfab3aa611e\" y=\"434.363672\"/>\r\n     <use style=\"fill:#0000ff;stroke:#0000ff;\" x=\"162.447635\" xlink:href=\"#mfab3aa611e\" y=\"407.885366\"/>\r\n     <use style=\"fill:#0000ff;stroke:#0000ff;\" x=\"164.324299\" xlink:href=\"#mfab3aa611e\" y=\"375.965249\"/>\r\n     <use style=\"fill:#0000ff;stroke:#0000ff;\" x=\"166.200939\" xlink:href=\"#mfab3aa611e\" y=\"442.073819\"/>\r\n     <use style=\"fill:#0000ff;stroke:#0000ff;\" x=\"168.077602\" xlink:href=\"#mfab3aa611e\" y=\"387.593046\"/>\r\n     <use style=\"fill:#0000ff;stroke:#0000ff;\" x=\"169.954242\" xlink:href=\"#mfab3aa611e\" y=\"383.85443\"/>\r\n     <use style=\"fill:#0000ff;stroke:#0000ff;\" x=\"171.830882\" xlink:href=\"#mfab3aa611e\" y=\"402.90832\"/>\r\n     <use style=\"fill:#0000ff;stroke:#0000ff;\" x=\"173.707546\" xlink:href=\"#mfab3aa611e\" y=\"337.69731\"/>\r\n     <use style=\"fill:#0000ff;stroke:#0000ff;\" x=\"175.584186\" xlink:href=\"#mfab3aa611e\" y=\"446.686345\"/>\r\n     <use style=\"fill:#0000ff;stroke:#0000ff;\" x=\"177.460826\" xlink:href=\"#mfab3aa611e\" y=\"341.446368\"/>\r\n     <use style=\"fill:#0000ff;stroke:#0000ff;\" x=\"179.33749\" xlink:href=\"#mfab3aa611e\" y=\"371.223742\"/>\r\n     <use style=\"fill:#0000ff;stroke:#0000ff;\" x=\"181.21413\" xlink:href=\"#mfab3aa611e\" y=\"421.273405\"/>\r\n     <use style=\"fill:#0000ff;stroke:#0000ff;\" x=\"183.090794\" xlink:href=\"#mfab3aa611e\" y=\"322.939247\"/>\r\n     <use style=\"fill:#0000ff;stroke:#0000ff;\" x=\"184.967434\" xlink:href=\"#mfab3aa611e\" y=\"381.981539\"/>\r\n     <use style=\"fill:#0000ff;stroke:#0000ff;\" x=\"186.844073\" xlink:href=\"#mfab3aa611e\" y=\"329.583113\"/>\r\n     <use style=\"fill:#0000ff;stroke:#0000ff;\" x=\"188.720737\" xlink:href=\"#mfab3aa611e\" y=\"360.548774\"/>\r\n     <use style=\"fill:#0000ff;stroke:#0000ff;\" x=\"190.597377\" xlink:href=\"#mfab3aa611e\" y=\"370.249425\"/>\r\n     <use style=\"fill:#0000ff;stroke:#0000ff;\" x=\"192.474017\" xlink:href=\"#mfab3aa611e\" y=\"325.391371\"/>\r\n     <use style=\"fill:#0000ff;stroke:#0000ff;\" x=\"194.350681\" xlink:href=\"#mfab3aa611e\" y=\"368.779287\"/>\r\n     <use style=\"fill:#0000ff;stroke:#0000ff;\" x=\"196.227321\" xlink:href=\"#mfab3aa611e\" y=\"324.365022\"/>\r\n     <use style=\"fill:#0000ff;stroke:#0000ff;\" x=\"198.103985\" xlink:href=\"#mfab3aa611e\" y=\"334.566993\"/>\r\n     <use style=\"fill:#0000ff;stroke:#0000ff;\" x=\"199.980625\" xlink:href=\"#mfab3aa611e\" y=\"389.47247\"/>\r\n     <use style=\"fill:#0000ff;stroke:#0000ff;\" x=\"201.857265\" xlink:href=\"#mfab3aa611e\" y=\"378.182277\"/>\r\n     <use style=\"fill:#0000ff;stroke:#0000ff;\" x=\"203.733929\" xlink:href=\"#mfab3aa611e\" y=\"345.262897\"/>\r\n     <use style=\"fill:#0000ff;stroke:#0000ff;\" x=\"205.610568\" xlink:href=\"#mfab3aa611e\" y=\"342.268658\"/>\r\n     <use style=\"fill:#0000ff;stroke:#0000ff;\" x=\"207.487208\" xlink:href=\"#mfab3aa611e\" y=\"335.043126\"/>\r\n     <use style=\"fill:#0000ff;stroke:#0000ff;\" x=\"209.363872\" xlink:href=\"#mfab3aa611e\" y=\"351.812569\"/>\r\n     <use style=\"fill:#0000ff;stroke:#0000ff;\" x=\"211.240512\" xlink:href=\"#mfab3aa611e\" y=\"343.309661\"/>\r\n     <use style=\"fill:#0000ff;stroke:#0000ff;\" x=\"213.117176\" xlink:href=\"#mfab3aa611e\" y=\"261.654107\"/>\r\n     <use style=\"fill:#0000ff;stroke:#0000ff;\" x=\"214.993816\" xlink:href=\"#mfab3aa611e\" y=\"376.901483\"/>\r\n     <use style=\"fill:#0000ff;stroke:#0000ff;\" x=\"216.870456\" xlink:href=\"#mfab3aa611e\" y=\"324.953964\"/>\r\n     <use style=\"fill:#0000ff;stroke:#0000ff;\" x=\"218.74712\" xlink:href=\"#mfab3aa611e\" y=\"294.817377\"/>\r\n     <use style=\"fill:#0000ff;stroke:#0000ff;\" x=\"220.62376\" xlink:href=\"#mfab3aa611e\" y=\"288.772433\"/>\r\n     <use style=\"fill:#0000ff;stroke:#0000ff;\" x=\"222.5004\" xlink:href=\"#mfab3aa611e\" y=\"302.551746\"/>\r\n     <use style=\"fill:#0000ff;stroke:#0000ff;\" x=\"224.377063\" xlink:href=\"#mfab3aa611e\" y=\"321.512648\"/>\r\n     <use style=\"fill:#0000ff;stroke:#0000ff;\" x=\"226.253703\" xlink:href=\"#mfab3aa611e\" y=\"307.353859\"/>\r\n     <use style=\"fill:#0000ff;stroke:#0000ff;\" x=\"228.130367\" xlink:href=\"#mfab3aa611e\" y=\"328.395028\"/>\r\n     <use style=\"fill:#0000ff;stroke:#0000ff;\" x=\"230.007007\" xlink:href=\"#mfab3aa611e\" y=\"387.856395\"/>\r\n     <use style=\"fill:#0000ff;stroke:#0000ff;\" x=\"231.883647\" xlink:href=\"#mfab3aa611e\" y=\"373.018911\"/>\r\n     <use style=\"fill:#0000ff;stroke:#0000ff;\" x=\"233.760311\" xlink:href=\"#mfab3aa611e\" y=\"318.427519\"/>\r\n     <use style=\"fill:#0000ff;stroke:#0000ff;\" x=\"235.636951\" xlink:href=\"#mfab3aa611e\" y=\"308.213507\"/>\r\n     <use style=\"fill:#0000ff;stroke:#0000ff;\" x=\"237.513591\" xlink:href=\"#mfab3aa611e\" y=\"328.939485\"/>\r\n     <use style=\"fill:#0000ff;stroke:#0000ff;\" x=\"239.390255\" xlink:href=\"#mfab3aa611e\" y=\"332.265369\"/>\r\n     <use style=\"fill:#0000ff;stroke:#0000ff;\" x=\"241.266895\" xlink:href=\"#mfab3aa611e\" y=\"348.744466\"/>\r\n     <use style=\"fill:#0000ff;stroke:#0000ff;\" x=\"243.143558\" xlink:href=\"#mfab3aa611e\" y=\"365.539347\"/>\r\n     <use style=\"fill:#0000ff;stroke:#0000ff;\" x=\"245.020198\" xlink:href=\"#mfab3aa611e\" y=\"283.976843\"/>\r\n     <use style=\"fill:#0000ff;stroke:#0000ff;\" x=\"246.896838\" xlink:href=\"#mfab3aa611e\" y=\"306.740042\"/>\r\n     <use style=\"fill:#0000ff;stroke:#0000ff;\" x=\"248.773502\" xlink:href=\"#mfab3aa611e\" y=\"340.452674\"/>\r\n     <use style=\"fill:#0000ff;stroke:#0000ff;\" x=\"250.650142\" xlink:href=\"#mfab3aa611e\" y=\"315.637882\"/>\r\n     <use style=\"fill:#0000ff;stroke:#0000ff;\" x=\"252.526782\" xlink:href=\"#mfab3aa611e\" y=\"313.721964\"/>\r\n     <use style=\"fill:#0000ff;stroke:#0000ff;\" x=\"254.403446\" xlink:href=\"#mfab3aa611e\" y=\"366.241862\"/>\r\n     <use style=\"fill:#0000ff;stroke:#0000ff;\" x=\"256.280086\" xlink:href=\"#mfab3aa611e\" y=\"317.02264\"/>\r\n     <use style=\"fill:#0000ff;stroke:#0000ff;\" x=\"258.156726\" xlink:href=\"#mfab3aa611e\" y=\"270.104369\"/>\r\n     <use style=\"fill:#0000ff;stroke:#0000ff;\" x=\"260.03339\" xlink:href=\"#mfab3aa611e\" y=\"300.18631\"/>\r\n     <use style=\"fill:#0000ff;stroke:#0000ff;\" x=\"261.910029\" xlink:href=\"#mfab3aa611e\" y=\"339.462537\"/>\r\n     <use style=\"fill:#0000ff;stroke:#0000ff;\" x=\"263.786693\" xlink:href=\"#mfab3aa611e\" y=\"263.445879\"/>\r\n     <use style=\"fill:#0000ff;stroke:#0000ff;\" x=\"265.663333\" xlink:href=\"#mfab3aa611e\" y=\"314.368527\"/>\r\n     <use style=\"fill:#0000ff;stroke:#0000ff;\" x=\"267.539973\" xlink:href=\"#mfab3aa611e\" y=\"375.06971\"/>\r\n     <use style=\"fill:#0000ff;stroke:#0000ff;\" x=\"269.416637\" xlink:href=\"#mfab3aa611e\" y=\"314.102595\"/>\r\n     <use style=\"fill:#0000ff;stroke:#0000ff;\" x=\"271.293277\" xlink:href=\"#mfab3aa611e\" y=\"294.319505\"/>\r\n     <use style=\"fill:#0000ff;stroke:#0000ff;\" x=\"273.169917\" xlink:href=\"#mfab3aa611e\" y=\"299.480156\"/>\r\n     <use style=\"fill:#0000ff;stroke:#0000ff;\" x=\"275.046581\" xlink:href=\"#mfab3aa611e\" y=\"271.950626\"/>\r\n     <use style=\"fill:#0000ff;stroke:#0000ff;\" x=\"276.923221\" xlink:href=\"#mfab3aa611e\" y=\"214.979988\"/>\r\n     <use style=\"fill:#0000ff;stroke:#0000ff;\" x=\"278.799885\" xlink:href=\"#mfab3aa611e\" y=\"259.903041\"/>\r\n     <use style=\"fill:#0000ff;stroke:#0000ff;\" x=\"280.676524\" xlink:href=\"#mfab3aa611e\" y=\"320.392214\"/>\r\n     <use style=\"fill:#0000ff;stroke:#0000ff;\" x=\"282.553164\" xlink:href=\"#mfab3aa611e\" y=\"324.670614\"/>\r\n     <use style=\"fill:#0000ff;stroke:#0000ff;\" x=\"284.429828\" xlink:href=\"#mfab3aa611e\" y=\"302.365084\"/>\r\n     <use style=\"fill:#0000ff;stroke:#0000ff;\" x=\"286.306468\" xlink:href=\"#mfab3aa611e\" y=\"277.160717\"/>\r\n     <use style=\"fill:#0000ff;stroke:#0000ff;\" x=\"288.183108\" xlink:href=\"#mfab3aa611e\" y=\"273.816461\"/>\r\n     <use style=\"fill:#0000ff;stroke:#0000ff;\" x=\"290.059772\" xlink:href=\"#mfab3aa611e\" y=\"277.930401\"/>\r\n     <use style=\"fill:#0000ff;stroke:#0000ff;\" x=\"291.936412\" xlink:href=\"#mfab3aa611e\" y=\"295.564859\"/>\r\n     <use style=\"fill:#0000ff;stroke:#0000ff;\" x=\"293.813076\" xlink:href=\"#mfab3aa611e\" y=\"282.139883\"/>\r\n     <use style=\"fill:#0000ff;stroke:#0000ff;\" x=\"295.689716\" xlink:href=\"#mfab3aa611e\" y=\"300.010352\"/>\r\n     <use style=\"fill:#0000ff;stroke:#0000ff;\" x=\"297.566356\" xlink:href=\"#mfab3aa611e\" y=\"288.745256\"/>\r\n     <use style=\"fill:#0000ff;stroke:#0000ff;\" x=\"299.443019\" xlink:href=\"#mfab3aa611e\" y=\"314.95779\"/>\r\n     <use style=\"fill:#0000ff;stroke:#0000ff;\" x=\"301.319659\" xlink:href=\"#mfab3aa611e\" y=\"269.884399\"/>\r\n     <use style=\"fill:#0000ff;stroke:#0000ff;\" x=\"303.196299\" xlink:href=\"#mfab3aa611e\" y=\"262.295664\"/>\r\n     <use style=\"fill:#0000ff;stroke:#0000ff;\" x=\"305.072963\" xlink:href=\"#mfab3aa611e\" y=\"260.503149\"/>\r\n     <use style=\"fill:#0000ff;stroke:#0000ff;\" x=\"306.949603\" xlink:href=\"#mfab3aa611e\" y=\"304.511476\"/>\r\n     <use style=\"fill:#0000ff;stroke:#0000ff;\" x=\"308.826267\" xlink:href=\"#mfab3aa611e\" y=\"220.93334\"/>\r\n     <use style=\"fill:#0000ff;stroke:#0000ff;\" x=\"310.702907\" xlink:href=\"#mfab3aa611e\" y=\"262.711814\"/>\r\n     <use style=\"fill:#0000ff;stroke:#0000ff;\" x=\"312.579547\" xlink:href=\"#mfab3aa611e\" y=\"233.485632\"/>\r\n     <use style=\"fill:#0000ff;stroke:#0000ff;\" x=\"314.456211\" xlink:href=\"#mfab3aa611e\" y=\"227.703112\"/>\r\n     <use style=\"fill:#0000ff;stroke:#0000ff;\" x=\"316.332851\" xlink:href=\"#mfab3aa611e\" y=\"301.037686\"/>\r\n     <use style=\"fill:#0000ff;stroke:#0000ff;\" x=\"318.20949\" xlink:href=\"#mfab3aa611e\" y=\"305.814612\"/>\r\n     <use style=\"fill:#0000ff;stroke:#0000ff;\" x=\"320.086154\" xlink:href=\"#mfab3aa611e\" y=\"321.007629\"/>\r\n     <use style=\"fill:#0000ff;stroke:#0000ff;\" x=\"321.962794\" xlink:href=\"#mfab3aa611e\" y=\"240.123227\"/>\r\n     <use style=\"fill:#0000ff;stroke:#0000ff;\" x=\"323.839458\" xlink:href=\"#mfab3aa611e\" y=\"267.939967\"/>\r\n     <use style=\"fill:#0000ff;stroke:#0000ff;\" x=\"325.716098\" xlink:href=\"#mfab3aa611e\" y=\"220.457408\"/>\r\n     <use style=\"fill:#0000ff;stroke:#0000ff;\" x=\"327.592738\" xlink:href=\"#mfab3aa611e\" y=\"272.562212\"/>\r\n     <use style=\"fill:#0000ff;stroke:#0000ff;\" x=\"329.469402\" xlink:href=\"#mfab3aa611e\" y=\"246.710046\"/>\r\n     <use style=\"fill:#0000ff;stroke:#0000ff;\" x=\"331.346042\" xlink:href=\"#mfab3aa611e\" y=\"243.474438\"/>\r\n     <use style=\"fill:#0000ff;stroke:#0000ff;\" x=\"333.222682\" xlink:href=\"#mfab3aa611e\" y=\"279.244744\"/>\r\n     <use style=\"fill:#0000ff;stroke:#0000ff;\" x=\"335.099346\" xlink:href=\"#mfab3aa611e\" y=\"253.066753\"/>\r\n     <use style=\"fill:#0000ff;stroke:#0000ff;\" x=\"336.975985\" xlink:href=\"#mfab3aa611e\" y=\"230.341717\"/>\r\n     <use style=\"fill:#0000ff;stroke:#0000ff;\" x=\"338.852649\" xlink:href=\"#mfab3aa611e\" y=\"256.723828\"/>\r\n     <use style=\"fill:#0000ff;stroke:#0000ff;\" x=\"340.729289\" xlink:href=\"#mfab3aa611e\" y=\"286.318861\"/>\r\n     <use style=\"fill:#0000ff;stroke:#0000ff;\" x=\"342.605929\" xlink:href=\"#mfab3aa611e\" y=\"238.502197\"/>\r\n     <use style=\"fill:#0000ff;stroke:#0000ff;\" x=\"344.482593\" xlink:href=\"#mfab3aa611e\" y=\"253.163893\"/>\r\n     <use style=\"fill:#0000ff;stroke:#0000ff;\" x=\"346.359233\" xlink:href=\"#mfab3aa611e\" y=\"236.282727\"/>\r\n     <use style=\"fill:#0000ff;stroke:#0000ff;\" x=\"348.235873\" xlink:href=\"#mfab3aa611e\" y=\"202.335732\"/>\r\n     <use style=\"fill:#0000ff;stroke:#0000ff;\" x=\"350.112537\" xlink:href=\"#mfab3aa611e\" y=\"233.827567\"/>\r\n     <use style=\"fill:#0000ff;stroke:#0000ff;\" x=\"351.989177\" xlink:href=\"#mfab3aa611e\" y=\"219.047142\"/>\r\n     <use style=\"fill:#0000ff;stroke:#0000ff;\" x=\"353.865817\" xlink:href=\"#mfab3aa611e\" y=\"266.24027\"/>\r\n     <use style=\"fill:#0000ff;stroke:#0000ff;\" x=\"355.74248\" xlink:href=\"#mfab3aa611e\" y=\"256.881232\"/>\r\n     <use style=\"fill:#0000ff;stroke:#0000ff;\" x=\"357.61912\" xlink:href=\"#mfab3aa611e\" y=\"223.842319\"/>\r\n     <use style=\"fill:#0000ff;stroke:#0000ff;\" x=\"359.495784\" xlink:href=\"#mfab3aa611e\" y=\"285.16533\"/>\r\n     <use style=\"fill:#0000ff;stroke:#0000ff;\" x=\"361.372424\" xlink:href=\"#mfab3aa611e\" y=\"212.160048\"/>\r\n     <use style=\"fill:#0000ff;stroke:#0000ff;\" x=\"363.249064\" xlink:href=\"#mfab3aa611e\" y=\"267.849289\"/>\r\n     <use style=\"fill:#0000ff;stroke:#0000ff;\" x=\"365.125728\" xlink:href=\"#mfab3aa611e\" y=\"196.119915\"/>\r\n     <use style=\"fill:#0000ff;stroke:#0000ff;\" x=\"367.002368\" xlink:href=\"#mfab3aa611e\" y=\"286.840152\"/>\r\n     <use style=\"fill:#0000ff;stroke:#0000ff;\" x=\"368.879008\" xlink:href=\"#mfab3aa611e\" y=\"245.845201\"/>\r\n     <use style=\"fill:#0000ff;stroke:#0000ff;\" x=\"370.755672\" xlink:href=\"#mfab3aa611e\" y=\"201.686214\"/>\r\n     <use style=\"fill:#0000ff;stroke:#0000ff;\" x=\"372.632312\" xlink:href=\"#mfab3aa611e\" y=\"157.190166\"/>\r\n     <use style=\"fill:#0000ff;stroke:#0000ff;\" x=\"374.508975\" xlink:href=\"#mfab3aa611e\" y=\"208.32194\"/>\r\n     <use style=\"fill:#0000ff;stroke:#0000ff;\" x=\"376.385615\" xlink:href=\"#mfab3aa611e\" y=\"167.26172\"/>\r\n     <use style=\"fill:#0000ff;stroke:#0000ff;\" x=\"378.262255\" xlink:href=\"#mfab3aa611e\" y=\"207.181324\"/>\r\n     <use style=\"fill:#0000ff;stroke:#0000ff;\" x=\"380.138919\" xlink:href=\"#mfab3aa611e\" y=\"218.814638\"/>\r\n     <use style=\"fill:#0000ff;stroke:#0000ff;\" x=\"382.015559\" xlink:href=\"#mfab3aa611e\" y=\"242.643987\"/>\r\n     <use style=\"fill:#0000ff;stroke:#0000ff;\" x=\"383.892199\" xlink:href=\"#mfab3aa611e\" y=\"204.652433\"/>\r\n     <use style=\"fill:#0000ff;stroke:#0000ff;\" x=\"385.768863\" xlink:href=\"#mfab3aa611e\" y=\"162.808086\"/>\r\n     <use style=\"fill:#0000ff;stroke:#0000ff;\" x=\"387.645503\" xlink:href=\"#mfab3aa611e\" y=\"177.784108\"/>\r\n     <use style=\"fill:#0000ff;stroke:#0000ff;\" x=\"389.522167\" xlink:href=\"#mfab3aa611e\" y=\"204.63614\"/>\r\n     <use style=\"fill:#0000ff;stroke:#0000ff;\" x=\"391.398807\" xlink:href=\"#mfab3aa611e\" y=\"250.071438\"/>\r\n     <use style=\"fill:#0000ff;stroke:#0000ff;\" x=\"393.275446\" xlink:href=\"#mfab3aa611e\" y=\"164.516828\"/>\r\n     <use style=\"fill:#0000ff;stroke:#0000ff;\" x=\"395.15211\" xlink:href=\"#mfab3aa611e\" y=\"191.895418\"/>\r\n     <use style=\"fill:#0000ff;stroke:#0000ff;\" x=\"397.02875\" xlink:href=\"#mfab3aa611e\" y=\"179.927012\"/>\r\n     <use style=\"fill:#0000ff;stroke:#0000ff;\" x=\"398.90539\" xlink:href=\"#mfab3aa611e\" y=\"146.885225\"/>\r\n     <use style=\"fill:#0000ff;stroke:#0000ff;\" x=\"400.782054\" xlink:href=\"#mfab3aa611e\" y=\"153.428444\"/>\r\n     <use style=\"fill:#0000ff;stroke:#0000ff;\" x=\"402.658694\" xlink:href=\"#mfab3aa611e\" y=\"169.56441\"/>\r\n     <use style=\"fill:#0000ff;stroke:#0000ff;\" x=\"404.535358\" xlink:href=\"#mfab3aa611e\" y=\"178.775049\"/>\r\n     <use style=\"fill:#0000ff;stroke:#0000ff;\" x=\"406.411998\" xlink:href=\"#mfab3aa611e\" y=\"187.301103\"/>\r\n     <use style=\"fill:#0000ff;stroke:#0000ff;\" x=\"408.288638\" xlink:href=\"#mfab3aa611e\" y=\"150.937243\"/>\r\n     <use style=\"fill:#0000ff;stroke:#0000ff;\" x=\"410.165302\" xlink:href=\"#mfab3aa611e\" y=\"180.819858\"/>\r\n     <use style=\"fill:#0000ff;stroke:#0000ff;\" x=\"412.041941\" xlink:href=\"#mfab3aa611e\" y=\"114.417977\"/>\r\n     <use style=\"fill:#0000ff;stroke:#0000ff;\" x=\"413.918581\" xlink:href=\"#mfab3aa611e\" y=\"126.483031\"/>\r\n     <use style=\"fill:#0000ff;stroke:#0000ff;\" x=\"415.795245\" xlink:href=\"#mfab3aa611e\" y=\"175.210863\"/>\r\n     <use style=\"fill:#0000ff;stroke:#0000ff;\" x=\"417.671885\" xlink:href=\"#mfab3aa611e\" y=\"147.471644\"/>\r\n     <use style=\"fill:#0000ff;stroke:#0000ff;\" x=\"419.548549\" xlink:href=\"#mfab3aa611e\" y=\"140.452142\"/>\r\n     <use style=\"fill:#0000ff;stroke:#0000ff;\" x=\"421.425189\" xlink:href=\"#mfab3aa611e\" y=\"193.321182\"/>\r\n     <use style=\"fill:#0000ff;stroke:#0000ff;\" x=\"423.301829\" xlink:href=\"#mfab3aa611e\" y=\"166.229722\"/>\r\n     <use style=\"fill:#0000ff;stroke:#0000ff;\" x=\"425.178493\" xlink:href=\"#mfab3aa611e\" y=\"178.328093\"/>\r\n     <use style=\"fill:#0000ff;stroke:#0000ff;\" x=\"427.055133\" xlink:href=\"#mfab3aa611e\" y=\"115.387761\"/>\r\n     <use style=\"fill:#0000ff;stroke:#0000ff;\" x=\"428.931773\" xlink:href=\"#mfab3aa611e\" y=\"99.919404\"/>\r\n     <use style=\"fill:#0000ff;stroke:#0000ff;\" x=\"430.808436\" xlink:href=\"#mfab3aa611e\" y=\"156.29312\"/>\r\n     <use style=\"fill:#0000ff;stroke:#0000ff;\" x=\"432.685076\" xlink:href=\"#mfab3aa611e\" y=\"178.030482\"/>\r\n     <use style=\"fill:#0000ff;stroke:#0000ff;\" x=\"434.56174\" xlink:href=\"#mfab3aa611e\" y=\"142.999286\"/>\r\n     <use style=\"fill:#0000ff;stroke:#0000ff;\" x=\"436.43838\" xlink:href=\"#mfab3aa611e\" y=\"188.279219\"/>\r\n     <use style=\"fill:#0000ff;stroke:#0000ff;\" x=\"438.31502\" xlink:href=\"#mfab3aa611e\" y=\"166.961967\"/>\r\n     <use style=\"fill:#0000ff;stroke:#0000ff;\" x=\"440.191684\" xlink:href=\"#mfab3aa611e\" y=\"160.676007\"/>\r\n     <use style=\"fill:#0000ff;stroke:#0000ff;\" x=\"442.068324\" xlink:href=\"#mfab3aa611e\" y=\"159.885126\"/>\r\n     <use style=\"fill:#0000ff;stroke:#0000ff;\" x=\"443.944964\" xlink:href=\"#mfab3aa611e\" y=\"188.172239\"/>\r\n     <use style=\"fill:#0000ff;stroke:#0000ff;\" x=\"445.821628\" xlink:href=\"#mfab3aa611e\" y=\"175.23604\"/>\r\n     <use style=\"fill:#0000ff;stroke:#0000ff;\" x=\"447.698268\" xlink:href=\"#mfab3aa611e\" y=\"159.795232\"/>\r\n     <use style=\"fill:#0000ff;stroke:#0000ff;\" x=\"449.574907\" xlink:href=\"#mfab3aa611e\" y=\"154.580548\"/>\r\n     <use style=\"fill:#0000ff;stroke:#0000ff;\" x=\"451.451571\" xlink:href=\"#mfab3aa611e\" y=\"140.163968\"/>\r\n     <use style=\"fill:#0000ff;stroke:#0000ff;\" x=\"453.328211\" xlink:href=\"#mfab3aa611e\" y=\"151.505962\"/>\r\n     <use style=\"fill:#0000ff;stroke:#0000ff;\" x=\"455.204875\" xlink:href=\"#mfab3aa611e\" y=\"166.255251\"/>\r\n     <use style=\"fill:#0000ff;stroke:#0000ff;\" x=\"457.081515\" xlink:href=\"#mfab3aa611e\" y=\"145.66949\"/>\r\n     <use style=\"fill:#0000ff;stroke:#0000ff;\" x=\"458.958155\" xlink:href=\"#mfab3aa611e\" y=\"162.227988\"/>\r\n     <use style=\"fill:#0000ff;stroke:#0000ff;\" x=\"460.834819\" xlink:href=\"#mfab3aa611e\" y=\"134.979285\"/>\r\n     <use style=\"fill:#0000ff;stroke:#0000ff;\" x=\"462.711459\" xlink:href=\"#mfab3aa611e\" y=\"134.394966\"/>\r\n     <use style=\"fill:#0000ff;stroke:#0000ff;\" x=\"464.588099\" xlink:href=\"#mfab3aa611e\" y=\"146.088967\"/>\r\n     <use style=\"fill:#0000ff;stroke:#0000ff;\" x=\"466.464763\" xlink:href=\"#mfab3aa611e\" y=\"148.20798\"/>\r\n     <use style=\"fill:#0000ff;stroke:#0000ff;\" x=\"468.341402\" xlink:href=\"#mfab3aa611e\" y=\"106.801322\"/>\r\n     <use style=\"fill:#0000ff;stroke:#0000ff;\" x=\"470.218066\" xlink:href=\"#mfab3aa611e\" y=\"111.532386\"/>\r\n     <use style=\"fill:#0000ff;stroke:#0000ff;\" x=\"472.094706\" xlink:href=\"#mfab3aa611e\" y=\"152.163752\"/>\r\n     <use style=\"fill:#0000ff;stroke:#0000ff;\" x=\"473.971346\" xlink:href=\"#mfab3aa611e\" y=\"131.430869\"/>\r\n     <use style=\"fill:#0000ff;stroke:#0000ff;\" x=\"475.84801\" xlink:href=\"#mfab3aa611e\" y=\"174.777466\"/>\r\n     <use style=\"fill:#0000ff;stroke:#0000ff;\" x=\"477.72465\" xlink:href=\"#mfab3aa611e\" y=\"142.912126\"/>\r\n     <use style=\"fill:#0000ff;stroke:#0000ff;\" x=\"479.60129\" xlink:href=\"#mfab3aa611e\" y=\"143.157434\"/>\r\n     <use style=\"fill:#0000ff;stroke:#0000ff;\" x=\"481.477954\" xlink:href=\"#mfab3aa611e\" y=\"110.654838\"/>\r\n     <use style=\"fill:#0000ff;stroke:#0000ff;\" x=\"483.354594\" xlink:href=\"#mfab3aa611e\" y=\"151.074706\"/>\r\n     <use style=\"fill:#0000ff;stroke:#0000ff;\" x=\"485.231258\" xlink:href=\"#mfab3aa611e\" y=\"114.75732\"/>\r\n     <use style=\"fill:#0000ff;stroke:#0000ff;\" x=\"487.107897\" xlink:href=\"#mfab3aa611e\" y=\"79.762849\"/>\r\n     <use style=\"fill:#0000ff;stroke:#0000ff;\" x=\"488.984537\" xlink:href=\"#mfab3aa611e\" y=\"109.62485\"/>\r\n     <use style=\"fill:#0000ff;stroke:#0000ff;\" x=\"490.861201\" xlink:href=\"#mfab3aa611e\" y=\"109.438751\"/>\r\n     <use style=\"fill:#0000ff;stroke:#0000ff;\" x=\"492.737841\" xlink:href=\"#mfab3aa611e\" y=\"120.765368\"/>\r\n     <use style=\"fill:#0000ff;stroke:#0000ff;\" x=\"494.614481\" xlink:href=\"#mfab3aa611e\" y=\"124.748729\"/>\r\n     <use style=\"fill:#0000ff;stroke:#0000ff;\" x=\"496.491145\" xlink:href=\"#mfab3aa611e\" y=\"164.589204\"/>\r\n     <use style=\"fill:#0000ff;stroke:#0000ff;\" x=\"498.367785\" xlink:href=\"#mfab3aa611e\" y=\"150.834383\"/>\r\n     <use style=\"fill:#0000ff;stroke:#0000ff;\" x=\"500.244449\" xlink:href=\"#mfab3aa611e\" y=\"100.48342\"/>\r\n     <use style=\"fill:#0000ff;stroke:#0000ff;\" x=\"502.121089\" xlink:href=\"#mfab3aa611e\" y=\"103.672714\"/>\r\n     <use style=\"fill:#0000ff;stroke:#0000ff;\" x=\"503.997729\" xlink:href=\"#mfab3aa611e\" y=\"111.269489\"/>\r\n     <use style=\"fill:#0000ff;stroke:#0000ff;\" x=\"505.874392\" xlink:href=\"#mfab3aa611e\" y=\"111.324276\"/>\r\n     <use style=\"fill:#0000ff;stroke:#0000ff;\" x=\"507.751032\" xlink:href=\"#mfab3aa611e\" y=\"46.018125\"/>\r\n     <use style=\"fill:#0000ff;stroke:#0000ff;\" x=\"509.627672\" xlink:href=\"#mfab3aa611e\" y=\"106.030432\"/>\r\n     <use style=\"fill:#0000ff;stroke:#0000ff;\" x=\"511.504336\" xlink:href=\"#mfab3aa611e\" y=\"82.301078\"/>\r\n     <use style=\"fill:#0000ff;stroke:#0000ff;\" x=\"513.380976\" xlink:href=\"#mfab3aa611e\" y=\"84.494235\"/>\r\n     <use style=\"fill:#0000ff;stroke:#0000ff;\" x=\"515.25764\" xlink:href=\"#mfab3aa611e\" y=\"70.782814\"/>\r\n     <use style=\"fill:#0000ff;stroke:#0000ff;\" x=\"517.13428\" xlink:href=\"#mfab3aa611e\" y=\"94.880557\"/>\r\n     <use style=\"fill:#0000ff;stroke:#0000ff;\" x=\"519.01092\" xlink:href=\"#mfab3aa611e\" y=\"73.763425\"/>\r\n     <use style=\"fill:#0000ff;stroke:#0000ff;\" x=\"520.887584\" xlink:href=\"#mfab3aa611e\" y=\"91.750994\"/>\r\n     <use style=\"fill:#0000ff;stroke:#0000ff;\" x=\"522.764224\" xlink:href=\"#mfab3aa611e\" y=\"55.126578\"/>\r\n     <use style=\"fill:#0000ff;stroke:#0000ff;\" x=\"524.640864\" xlink:href=\"#mfab3aa611e\" y=\"91.609611\"/>\r\n     <use style=\"fill:#0000ff;stroke:#0000ff;\" x=\"526.517527\" xlink:href=\"#mfab3aa611e\" y=\"129.797466\"/>\r\n     <use style=\"fill:#0000ff;stroke:#0000ff;\" x=\"528.394167\" xlink:href=\"#mfab3aa611e\" y=\"65.210494\"/>\r\n     <use style=\"fill:#0000ff;stroke:#0000ff;\" x=\"530.270831\" xlink:href=\"#mfab3aa611e\" y=\"74.342235\"/>\r\n     <use style=\"fill:#0000ff;stroke:#0000ff;\" x=\"532.147471\" xlink:href=\"#mfab3aa611e\" y=\"79.496535\"/>\r\n     <use style=\"fill:#0000ff;stroke:#0000ff;\" x=\"534.024111\" xlink:href=\"#mfab3aa611e\" y=\"148.687952\"/>\r\n     <use style=\"fill:#0000ff;stroke:#0000ff;\" x=\"535.900775\" xlink:href=\"#mfab3aa611e\" y=\"91.51823\"/>\r\n     <use style=\"fill:#0000ff;stroke:#0000ff;\" x=\"537.777415\" xlink:href=\"#mfab3aa611e\" y=\"131.491987\"/>\r\n    </g>\r\n   </g>\r\n   <g id=\"patch_3\">\r\n    <path d=\"M 35.304688 543.718125 \r\nL 35.304688 22.318125 \r\n\" style=\"fill:none;stroke:#000000;stroke-linecap:square;stroke-linejoin:miter;stroke-width:0.8;\"/>\r\n   </g>\r\n   <g id=\"patch_4\">\r\n    <path d=\"M 561.704687 543.718125 \r\nL 561.704687 22.318125 \r\n\" style=\"fill:none;stroke:#000000;stroke-linecap:square;stroke-linejoin:miter;stroke-width:0.8;\"/>\r\n   </g>\r\n   <g id=\"patch_5\">\r\n    <path d=\"M 35.304688 543.718125 \r\nL 561.704687 543.718125 \r\n\" style=\"fill:none;stroke:#000000;stroke-linecap:square;stroke-linejoin:miter;stroke-width:0.8;\"/>\r\n   </g>\r\n   <g id=\"patch_6\">\r\n    <path d=\"M 35.304688 22.318125 \r\nL 561.704687 22.318125 \r\n\" style=\"fill:none;stroke:#000000;stroke-linecap:square;stroke-linejoin:miter;stroke-width:0.8;\"/>\r\n   </g>\r\n   <g id=\"text_15\">\r\n    <!-- data points -->\r\n    <g transform=\"translate(264.655312 16.318125)scale(0.12 -0.12)\">\r\n     <defs>\r\n      <path d=\"M 45.40625 46.390625 \r\nL 45.40625 75.984375 \r\nL 54.390625 75.984375 \r\nL 54.390625 0 \r\nL 45.40625 0 \r\nL 45.40625 8.203125 \r\nQ 42.578125 3.328125 38.25 0.953125 \r\nQ 33.9375 -1.421875 27.875 -1.421875 \r\nQ 17.96875 -1.421875 11.734375 6.484375 \r\nQ 5.515625 14.40625 5.515625 27.296875 \r\nQ 5.515625 40.1875 11.734375 48.09375 \r\nQ 17.96875 56 27.875 56 \r\nQ 33.9375 56 38.25 53.625 \r\nQ 42.578125 51.265625 45.40625 46.390625 \r\nz\r\nM 14.796875 27.296875 \r\nQ 14.796875 17.390625 18.875 11.75 \r\nQ 22.953125 6.109375 30.078125 6.109375 \r\nQ 37.203125 6.109375 41.296875 11.75 \r\nQ 45.40625 17.390625 45.40625 27.296875 \r\nQ 45.40625 37.203125 41.296875 42.84375 \r\nQ 37.203125 48.484375 30.078125 48.484375 \r\nQ 22.953125 48.484375 18.875 42.84375 \r\nQ 14.796875 37.203125 14.796875 27.296875 \r\nz\r\n\" id=\"DejaVuSans-100\"/>\r\n      <path d=\"M 34.28125 27.484375 \r\nQ 23.390625 27.484375 19.1875 25 \r\nQ 14.984375 22.515625 14.984375 16.5 \r\nQ 14.984375 11.71875 18.140625 8.90625 \r\nQ 21.296875 6.109375 26.703125 6.109375 \r\nQ 34.1875 6.109375 38.703125 11.40625 \r\nQ 43.21875 16.703125 43.21875 25.484375 \r\nL 43.21875 27.484375 \r\nz\r\nM 52.203125 31.203125 \r\nL 52.203125 0 \r\nL 43.21875 0 \r\nL 43.21875 8.296875 \r\nQ 40.140625 3.328125 35.546875 0.953125 \r\nQ 30.953125 -1.421875 24.3125 -1.421875 \r\nQ 15.921875 -1.421875 10.953125 3.296875 \r\nQ 6 8.015625 6 15.921875 \r\nQ 6 25.140625 12.171875 29.828125 \r\nQ 18.359375 34.515625 30.609375 34.515625 \r\nL 43.21875 34.515625 \r\nL 43.21875 35.40625 \r\nQ 43.21875 41.609375 39.140625 45 \r\nQ 35.0625 48.390625 27.6875 48.390625 \r\nQ 23 48.390625 18.546875 47.265625 \r\nQ 14.109375 46.140625 10.015625 43.890625 \r\nL 10.015625 52.203125 \r\nQ 14.9375 54.109375 19.578125 55.046875 \r\nQ 24.21875 56 28.609375 56 \r\nQ 40.484375 56 46.34375 49.84375 \r\nQ 52.203125 43.703125 52.203125 31.203125 \r\nz\r\n\" id=\"DejaVuSans-97\"/>\r\n      <path d=\"M 18.3125 70.21875 \r\nL 18.3125 54.6875 \r\nL 36.8125 54.6875 \r\nL 36.8125 47.703125 \r\nL 18.3125 47.703125 \r\nL 18.3125 18.015625 \r\nQ 18.3125 11.328125 20.140625 9.421875 \r\nQ 21.96875 7.515625 27.59375 7.515625 \r\nL 36.8125 7.515625 \r\nL 36.8125 0 \r\nL 27.59375 0 \r\nQ 17.1875 0 13.234375 3.875 \r\nQ 9.28125 7.765625 9.28125 18.015625 \r\nL 9.28125 47.703125 \r\nL 2.6875 47.703125 \r\nL 2.6875 54.6875 \r\nL 9.28125 54.6875 \r\nL 9.28125 70.21875 \r\nz\r\n\" id=\"DejaVuSans-116\"/>\r\n      <path id=\"DejaVuSans-32\"/>\r\n      <path d=\"M 18.109375 8.203125 \r\nL 18.109375 -20.796875 \r\nL 9.078125 -20.796875 \r\nL 9.078125 54.6875 \r\nL 18.109375 54.6875 \r\nL 18.109375 46.390625 \r\nQ 20.953125 51.265625 25.265625 53.625 \r\nQ 29.59375 56 35.59375 56 \r\nQ 45.5625 56 51.78125 48.09375 \r\nQ 58.015625 40.1875 58.015625 27.296875 \r\nQ 58.015625 14.40625 51.78125 6.484375 \r\nQ 45.5625 -1.421875 35.59375 -1.421875 \r\nQ 29.59375 -1.421875 25.265625 0.953125 \r\nQ 20.953125 3.328125 18.109375 8.203125 \r\nz\r\nM 48.6875 27.296875 \r\nQ 48.6875 37.203125 44.609375 42.84375 \r\nQ 40.53125 48.484375 33.40625 48.484375 \r\nQ 26.265625 48.484375 22.1875 42.84375 \r\nQ 18.109375 37.203125 18.109375 27.296875 \r\nQ 18.109375 17.390625 22.1875 11.75 \r\nQ 26.265625 6.109375 33.40625 6.109375 \r\nQ 40.53125 6.109375 44.609375 11.75 \r\nQ 48.6875 17.390625 48.6875 27.296875 \r\nz\r\n\" id=\"DejaVuSans-112\"/>\r\n      <path d=\"M 30.609375 48.390625 \r\nQ 23.390625 48.390625 19.1875 42.75 \r\nQ 14.984375 37.109375 14.984375 27.296875 \r\nQ 14.984375 17.484375 19.15625 11.84375 \r\nQ 23.34375 6.203125 30.609375 6.203125 \r\nQ 37.796875 6.203125 41.984375 11.859375 \r\nQ 46.1875 17.53125 46.1875 27.296875 \r\nQ 46.1875 37.015625 41.984375 42.703125 \r\nQ 37.796875 48.390625 30.609375 48.390625 \r\nz\r\nM 30.609375 56 \r\nQ 42.328125 56 49.015625 48.375 \r\nQ 55.71875 40.765625 55.71875 27.296875 \r\nQ 55.71875 13.875 49.015625 6.21875 \r\nQ 42.328125 -1.421875 30.609375 -1.421875 \r\nQ 18.84375 -1.421875 12.171875 6.21875 \r\nQ 5.515625 13.875 5.515625 27.296875 \r\nQ 5.515625 40.765625 12.171875 48.375 \r\nQ 18.84375 56 30.609375 56 \r\nz\r\n\" id=\"DejaVuSans-111\"/>\r\n      <path d=\"M 9.421875 54.6875 \r\nL 18.40625 54.6875 \r\nL 18.40625 0 \r\nL 9.421875 0 \r\nz\r\nM 9.421875 75.984375 \r\nL 18.40625 75.984375 \r\nL 18.40625 64.59375 \r\nL 9.421875 64.59375 \r\nz\r\n\" id=\"DejaVuSans-105\"/>\r\n      <path d=\"M 54.890625 33.015625 \r\nL 54.890625 0 \r\nL 45.90625 0 \r\nL 45.90625 32.71875 \r\nQ 45.90625 40.484375 42.875 44.328125 \r\nQ 39.84375 48.1875 33.796875 48.1875 \r\nQ 26.515625 48.1875 22.3125 43.546875 \r\nQ 18.109375 38.921875 18.109375 30.90625 \r\nL 18.109375 0 \r\nL 9.078125 0 \r\nL 9.078125 54.6875 \r\nL 18.109375 54.6875 \r\nL 18.109375 46.1875 \r\nQ 21.34375 51.125 25.703125 53.5625 \r\nQ 30.078125 56 35.796875 56 \r\nQ 45.21875 56 50.046875 50.171875 \r\nQ 54.890625 44.34375 54.890625 33.015625 \r\nz\r\n\" id=\"DejaVuSans-110\"/>\r\n      <path d=\"M 44.28125 53.078125 \r\nL 44.28125 44.578125 \r\nQ 40.484375 46.53125 36.375 47.5 \r\nQ 32.28125 48.484375 27.875 48.484375 \r\nQ 21.1875 48.484375 17.84375 46.4375 \r\nQ 14.5 44.390625 14.5 40.28125 \r\nQ 14.5 37.15625 16.890625 35.375 \r\nQ 19.28125 33.59375 26.515625 31.984375 \r\nL 29.59375 31.296875 \r\nQ 39.15625 29.25 43.1875 25.515625 \r\nQ 47.21875 21.78125 47.21875 15.09375 \r\nQ 47.21875 7.46875 41.1875 3.015625 \r\nQ 35.15625 -1.421875 24.609375 -1.421875 \r\nQ 20.21875 -1.421875 15.453125 -0.5625 \r\nQ 10.6875 0.296875 5.421875 2 \r\nL 5.421875 11.28125 \r\nQ 10.40625 8.6875 15.234375 7.390625 \r\nQ 20.0625 6.109375 24.8125 6.109375 \r\nQ 31.15625 6.109375 34.5625 8.28125 \r\nQ 37.984375 10.453125 37.984375 14.40625 \r\nQ 37.984375 18.0625 35.515625 20.015625 \r\nQ 33.0625 21.96875 24.703125 23.78125 \r\nL 21.578125 24.515625 \r\nQ 13.234375 26.265625 9.515625 29.90625 \r\nQ 5.8125 33.546875 5.8125 39.890625 \r\nQ 5.8125 47.609375 11.28125 51.796875 \r\nQ 16.75 56 26.8125 56 \r\nQ 31.78125 56 36.171875 55.265625 \r\nQ 40.578125 54.546875 44.28125 53.078125 \r\nz\r\n\" id=\"DejaVuSans-115\"/>\r\n     </defs>\r\n     <use xlink:href=\"#DejaVuSans-100\"/>\r\n     <use x=\"63.476562\" xlink:href=\"#DejaVuSans-97\"/>\r\n     <use x=\"124.755859\" xlink:href=\"#DejaVuSans-116\"/>\r\n     <use x=\"163.964844\" xlink:href=\"#DejaVuSans-97\"/>\r\n     <use x=\"225.244141\" xlink:href=\"#DejaVuSans-32\"/>\r\n     <use x=\"257.03125\" xlink:href=\"#DejaVuSans-112\"/>\r\n     <use x=\"320.507812\" xlink:href=\"#DejaVuSans-111\"/>\r\n     <use x=\"381.689453\" xlink:href=\"#DejaVuSans-105\"/>\r\n     <use x=\"409.472656\" xlink:href=\"#DejaVuSans-110\"/>\r\n     <use x=\"472.851562\" xlink:href=\"#DejaVuSans-116\"/>\r\n     <use x=\"512.060547\" xlink:href=\"#DejaVuSans-115\"/>\r\n    </g>\r\n   </g>\r\n  </g>\r\n </g>\r\n <defs>\r\n  <clipPath id=\"pd3cc141a46\">\r\n   <rect height=\"521.4\" width=\"526.4\" x=\"35.304688\" y=\"22.318125\"/>\r\n  </clipPath>\r\n </defs>\r\n</svg>\r\n",
      "image/png": "[encoded data removed]"
     },
     "metadata": {
      "needs_background": "light"
     }
    }
   ],
   "source": [
    "filename    = 'assignment_06_data.csv'\n",
    "data_load   = np.loadtxt(filename, delimiter = ',')\n",
    "\n",
    "x   = data_load[0, :]\n",
    "y   = data_load[1, :]\n",
    "\n",
    "plt.figure(figsize=(8,8))\n",
    "\n",
    "plt.plot(x, y, '.', color = 'blue')\n",
    "plt.title('data points')\n",
    "\n",
    "plt.tight_layout()\n",
    "plt.show()"
   ]
  },
  {
   "cell_type": "code",
   "execution_count": 3,
   "metadata": {},
   "outputs": [
    {
     "output_type": "execute_result",
     "data": {
      "text/plain": [
       "array([-10.      ,  -9.921569,  -9.843137,  -9.764706,  -9.686275,\n",
       "        -9.607843,  -9.529412,  -9.45098 ,  -9.372549,  -9.294118,\n",
       "        -9.215686,  -9.137255,  -9.058824,  -8.980392,  -8.901961,\n",
       "        -8.823529,  -8.745098,  -8.666667,  -8.588235,  -8.509804,\n",
       "        -8.431373,  -8.352941,  -8.27451 ,  -8.196078,  -8.117647,\n",
       "        -8.039216,  -7.960784,  -7.882353,  -7.803922,  -7.72549 ,\n",
       "        -7.647059,  -7.568627,  -7.490196,  -7.411765,  -7.333333,\n",
       "        -7.254902,  -7.176471,  -7.098039,  -7.019608,  -6.941176,\n",
       "        -6.862745,  -6.784314,  -6.705882,  -6.627451,  -6.54902 ,\n",
       "        -6.470588,  -6.392157,  -6.313725,  -6.235294,  -6.156863,\n",
       "        -6.078431,  -6.      ,  -5.921569,  -5.843137,  -5.764706,\n",
       "        -5.686275,  -5.607843,  -5.529412,  -5.45098 ,  -5.372549,\n",
       "        -5.294118,  -5.215686,  -5.137255,  -5.058824,  -4.980392,\n",
       "        -4.901961,  -4.823529,  -4.745098,  -4.666667,  -4.588235,\n",
       "        -4.509804,  -4.431373,  -4.352941,  -4.27451 ,  -4.196078,\n",
       "        -4.117647,  -4.039216,  -3.960784,  -3.882353,  -3.803922,\n",
       "        -3.72549 ,  -3.647059,  -3.568627,  -3.490196,  -3.411765,\n",
       "        -3.333333,  -3.254902,  -3.176471,  -3.098039,  -3.019608,\n",
       "        -2.941176,  -2.862745,  -2.784314,  -2.705882,  -2.627451,\n",
       "        -2.54902 ,  -2.470588,  -2.392157,  -2.313725,  -2.235294,\n",
       "        -2.156863,  -2.078431,  -2.      ,  -1.921569,  -1.843137,\n",
       "        -1.764706,  -1.686275,  -1.607843,  -1.529412,  -1.45098 ,\n",
       "        -1.372549,  -1.294118,  -1.215686,  -1.137255,  -1.058824,\n",
       "        -0.980392,  -0.901961,  -0.823529,  -0.745098,  -0.666667,\n",
       "        -0.588235,  -0.509804,  -0.431373,  -0.352941,  -0.27451 ,\n",
       "        -0.196078,  -0.117647,  -0.039216,   0.039216,   0.117647,\n",
       "         0.196078,   0.27451 ,   0.352941,   0.431373,   0.509804,\n",
       "         0.588235,   0.666667,   0.745098,   0.823529,   0.901961,\n",
       "         0.980392,   1.058824,   1.137255,   1.215686,   1.294118,\n",
       "         1.372549,   1.45098 ,   1.529412,   1.607843,   1.686275,\n",
       "         1.764706,   1.843137,   1.921569,   2.      ,   2.078431,\n",
       "         2.156863,   2.235294,   2.313725,   2.392157,   2.470588,\n",
       "         2.54902 ,   2.627451,   2.705882,   2.784314,   2.862745,\n",
       "         2.941176,   3.019608,   3.098039,   3.176471,   3.254902,\n",
       "         3.333333,   3.411765,   3.490196,   3.568627,   3.647059,\n",
       "         3.72549 ,   3.803922,   3.882353,   3.960784,   4.039216,\n",
       "         4.117647,   4.196078,   4.27451 ,   4.352941,   4.431373,\n",
       "         4.509804,   4.588235,   4.666667,   4.745098,   4.823529,\n",
       "         4.901961,   4.980392,   5.058824,   5.137255,   5.215686,\n",
       "         5.294118,   5.372549,   5.45098 ,   5.529412,   5.607843,\n",
       "         5.686275,   5.764706,   5.843137,   5.921569,   6.      ,\n",
       "         6.078431,   6.156863,   6.235294,   6.313725,   6.392157,\n",
       "         6.470588,   6.54902 ,   6.627451,   6.705882,   6.784314,\n",
       "         6.862745,   6.941176,   7.019608,   7.098039,   7.176471,\n",
       "         7.254902,   7.333333,   7.411765,   7.490196,   7.568627,\n",
       "         7.647059,   7.72549 ,   7.803922,   7.882353,   7.960784,\n",
       "         8.039216,   8.117647,   8.196078,   8.27451 ,   8.352941,\n",
       "         8.431373,   8.509804,   8.588235,   8.666667,   8.745098,\n",
       "         8.823529,   8.901961,   8.980392,   9.058824,   9.137255,\n",
       "         9.215686,   9.294118,   9.372549,   9.45098 ,   9.529412,\n",
       "         9.607843,   9.686275,   9.764706,   9.843137,   9.921569,\n",
       "        10.      ])"
      ]
     },
     "metadata": {},
     "execution_count": 3
    }
   ],
   "source": [
    "x"
   ]
  },
  {
   "cell_type": "code",
   "execution_count": 4,
   "metadata": {},
   "outputs": [
    {
     "output_type": "execute_result",
     "data": {
      "text/plain": [
       "array([-13.010656, -19.715787, -19.145112, -16.381674, -13.938764,\n",
       "       -15.251104, -18.092371, -18.713611, -11.07917 , -12.765774,\n",
       "       -10.122232, -12.552305,  -9.851311, -15.551237, -16.281921,\n",
       "       -16.77751 , -14.490954, -21.003222, -13.830631, -15.001458,\n",
       "       -12.380854, -13.543132, -13.52169 , -17.377019, -19.925489,\n",
       "       -14.72364 , -11.206778,  -9.374263, -13.83016 ,  -7.612602,\n",
       "       -17.191883,  -8.125504, -11.224119, -12.219073, -13.229375,\n",
       "        -6.344678,  -7.040662, -10.132797, -13.312016,  -9.636059,\n",
       "        -8.072129, -15.731569, -13.099058, -12.218799,  -8.522188,\n",
       "       -14.912322, -10.268526,  -5.709945,  -8.514808, -10.470001,\n",
       "        -2.339249, -11.352879, -10.554704,  -7.4968  , -12.481   ,\n",
       "        -9.846531,  -6.670627, -13.248124,  -7.827539,  -7.455564,\n",
       "        -9.351338,  -2.863144, -13.707049,  -3.236158,  -6.198869,\n",
       "       -11.178579,  -1.394785,  -7.26922 ,  -2.055819,  -5.136759,\n",
       "        -6.101929,  -1.63876 ,  -5.955657,  -1.536643,  -2.551692,\n",
       "        -8.014533,  -6.891211,  -3.615885,  -3.317972,  -2.599065,\n",
       "        -4.267547,  -3.421547,   4.702803,  -6.763778,  -1.59524 ,\n",
       "         1.403211,   2.004655,   0.633677,  -1.252845,   0.155889,\n",
       "        -1.93761 ,  -7.853741,  -6.37748 ,  -0.945889,   0.070358,\n",
       "        -1.991781,  -2.322691,  -3.962285,  -5.633298,   2.481794,\n",
       "         0.216961,  -3.13729 ,  -0.668333,  -0.477708,  -5.703195,\n",
       "        -0.80611 ,   3.862041,   0.869027,  -3.038776,   4.52453 ,\n",
       "        -0.542038,  -6.581525,  -0.515579,   1.452747,   0.939286,\n",
       "         3.678347,   9.346662,   4.877026,  -1.141367,  -1.567048,\n",
       "         0.652249,   3.159967,   3.492705,   3.083387,   1.32884 ,\n",
       "         2.664563,   0.886534,   2.007359,  -0.600667,   3.883927,\n",
       "         4.638971,   4.817318,   0.438693,   8.754331,   4.597566,\n",
       "         7.505436,   8.08077 ,   0.784319,   0.309037,  -1.202598,\n",
       "         6.845026,   4.077389,   8.801684,   3.617497,   6.189668,\n",
       "         6.511596,   2.952616,   5.557205,   7.818241,   5.193343,\n",
       "         2.248774,   7.006311,   5.54754 ,   7.227138,  10.604707,\n",
       "         7.471415,   8.941999,   4.246501,   5.177682,   8.464901,\n",
       "         2.363545,   9.627233,   4.086411,  11.223152,   2.196908,\n",
       "         6.275716,  10.669331,  15.096482,  10.009107,  14.094409,\n",
       "        10.122593,   8.965132,   6.594222,  10.374206,  14.537525,\n",
       "        13.04748 ,  10.375827,   5.855225,  14.367513,  11.64347 ,\n",
       "        12.834271,  16.121776,  15.470756,  13.865302,  12.948886,\n",
       "        12.100583,  15.718619,  12.745437,  19.352117,  18.1517  ,\n",
       "        13.303506,  16.06343 ,  16.761838,  11.501613,  14.197088,\n",
       "        12.993356,  19.255628,  20.794658,  15.185734,  13.022967,\n",
       "        16.508409,  12.003265,  14.124233,  14.749657,  14.828346,\n",
       "        12.013909,  13.301001,  14.83729 ,  15.356127,  16.79051 ,\n",
       "        15.662034,  14.194548,  16.242736,  14.595242,  17.306362,\n",
       "        17.364499,  16.201   ,  15.990168,  20.109939,  19.63922 ,\n",
       "        15.596587,  17.659413,  13.346627,  16.517081,  16.492674,\n",
       "        19.726532,  15.704942,  19.318354,  22.800142,  19.829011,\n",
       "        19.847527,  18.720581,  18.324255,  14.360312,  15.728853,\n",
       "        20.738541,  20.421221,  19.665377,  19.659926,  26.157586,\n",
       "        20.186639,  22.5476  ,  22.329391,  23.693614,  21.296   ,\n",
       "        23.397057,  21.607377,  25.251337,  21.621444,  17.821929,\n",
       "        24.248034,  23.339468,  22.826639,  15.942413,  21.630536,\n",
       "        17.653332])"
      ]
     },
     "metadata": {},
     "execution_count": 4
    }
   ],
   "source": [
    "y"
   ]
  },
  {
   "source": [
    "## compute the loss function"
   ],
   "cell_type": "code",
   "metadata": {},
   "execution_count": null,
   "outputs": []
  },
  {
   "cell_type": "code",
   "execution_count": null,
   "metadata": {},
   "outputs": [],
   "source": [
    "def compute_loss(x, y, theta0, theta1):\n",
    "\n",
    "    \n",
    "    return loss"
   ]
  },
  {
   "source": [
    "## compute the gradient for each model parameter"
   ],
   "cell_type": "markdown",
   "metadata": {}
  },
  {
   "cell_type": "code",
   "execution_count": null,
   "metadata": {},
   "outputs": [],
   "source": [
    "def compute_gradient_theta0(x, y, theta0, theta1):\n",
    "\n",
    "\n",
    "    return dL"
   ]
  },
  {
   "cell_type": "code",
   "execution_count": null,
   "metadata": {},
   "outputs": [],
   "source": [
    "def compute_gradient_theta1(x, y, theta0, theta1):\n",
    "\n",
    "\n",
    "    return dL"
   ]
  },
  {
   "source": [
    "## gradient descent for each model parameter"
   ],
   "cell_type": "markdown",
   "metadata": {}
  },
  {
   "cell_type": "code",
   "execution_count": null,
   "metadata": {
    "tags": [
     "outputPrepend"
    ]
   },
   "outputs": [],
   "source": [
    "num_iteration       = 1000\n",
    "learning_rate       = 0.01\n",
    "\n",
    "theta0              = 0\n",
    "theta1              = 0\n",
    "\n",
    "theta0_iteration    = np.zeros(num_iteration)\n",
    "theta1_iteration    = np.zeros(num_iteration)\n",
    "loss_iteration      = np.zeros(num_iteration)\n",
    "\n",
    "for i in range(num_iteration):\n",
    "\n",
    "    theta0  = \n",
    "    theta1  = \n",
    "    loss    = \n",
    "\n",
    "    theta0_iteration[i] = theta0\n",
    "    theta1_iteration[i] = theta1\n",
    "    loss_iteration[i]   = loss\n",
    "\n",
    "    print(\"iteration = %4d, loss = %5.5f\" % (i, loss))"
   ]
  },
  {
   "cell_type": "code",
   "execution_count": null,
   "metadata": {},
   "outputs": [],
   "source": [
    "f = "
   ]
  },
  {
   "source": [
    "## plot the results"
   ],
   "cell_type": "markdown",
   "metadata": {}
  },
  {
   "source": [
    "def plot_data_regression(x, y, f):\n",
    "\n",
    "    plt.figure(figsize=(8,6))\n",
    "    plt.title('linear regression result')\n",
    "\n",
    "    \n",
    "    plt.tight_layout()\n",
    "    plt.show()"
   ],
   "cell_type": "code",
   "metadata": {},
   "execution_count": null,
   "outputs": []
  },
  {
   "cell_type": "code",
   "execution_count": null,
   "metadata": {},
   "outputs": [],
   "source": [
    "def plot_loss_curve(loss_iteration):\n",
    "\n",
    "    plt.figure(figsize=(8,6))\n",
    "    plt.title('loss curve')\n",
    "\n",
    "    \n",
    "    plt.tight_layout()\n",
    "    plt.show()"
   ]
  },
  {
   "cell_type": "code",
   "execution_count": null,
   "metadata": {},
   "outputs": [],
   "source": [
    "\n",
    "def plot_model_parameter(theta0_iteration, theta1_iteration):\n",
    "\n",
    "    plt.figure(figsize=(8,6))\n",
    "    plt.title('model parameter')\n",
    "\n",
    "\n",
    "    plt.tight_layout()\n",
    "    plt.show()"
   ]
  },
  {
   "cell_type": "code",
   "execution_count": null,
   "metadata": {},
   "outputs": [],
   "source": [
    "\n",
    "X0  = np.arange(-10, 10, 0.1)\n",
    "X1  = np.arange(-10, 10, 0.1)\n",
    "\n",
    "grid_theta0, grid_theta1 = \n",
    "\n",
    "grid_loss   = \n",
    "\n",
    "\n",
    "def plot_loss_surface(grid_theta0, grid_theta1, grid_loss):\n",
    "\n",
    "    fig = plt.figure(figsize=(8,8))\n",
    "    plt.title('loss surface')\n",
    "\n",
    "\n",
    "    plt.tight_layout()\n",
    "    plt.show()"
   ]
  },
  {
   "cell_type": "markdown",
   "metadata": {},
   "source": [
    "# * * * * * * * * * * * * * * * * * * * * * * * * * * * * * * * * *"
   ]
  },
  {
   "cell_type": "markdown",
   "metadata": {},
   "source": [
    "# * results"
   ]
  },
  {
   "cell_type": "markdown",
   "metadata": {},
   "source": [
    "# * * * * * * * * * * * * * * * * * * * * * * * * * * * * * * * * *"
   ]
  },
  {
   "cell_type": "markdown",
   "metadata": {},
   "source": [
    "### # 01. plot the input data in blue point and the regression result in red curve"
   ]
  },
  {
   "cell_type": "code",
   "execution_count": null,
   "metadata": {},
   "outputs": [],
   "source": [
    "plot_data_regression(x, y, f)"
   ]
  },
  {
   "source": [
    "### # 02. plot the values of the model parameters $\\theta_0$ in blue and $\\theta_1$ in green over the gradient descent iterations"
   ],
   "cell_type": "markdown",
   "metadata": {}
  },
  {
   "cell_type": "code",
   "execution_count": null,
   "metadata": {},
   "outputs": [],
   "source": [
    "plot_model_parameter(theta0_iteration, theta1_iteration)"
   ]
  },
  {
   "source": [
    "### # 03. plot the loss values $\\mathcal{L}(\\theta)$ in red over the gradient descent iterations"
   ],
   "cell_type": "markdown",
   "metadata": {}
  },
  {
   "cell_type": "code",
   "execution_count": null,
   "metadata": {},
   "outputs": [],
   "source": [
    "plot_loss_curve(loss_iteration)"
   ]
  },
  {
   "source": [
    "### # 04. plot the loss surface in 3-dimension where $x$-axis represents $\\theta_0$, $y$-axis represents $\\theta_1$ and $z$-axis represents $\\mathcal{L}$"
   ],
   "cell_type": "markdown",
   "metadata": {}
  },
  {
   "cell_type": "code",
   "execution_count": null,
   "metadata": {},
   "outputs": [],
   "source": [
    "plot_loss_surface(grid_theta0, grid_theta1, grid_loss)"
   ]
  },
  {
   "cell_type": "code",
   "execution_count": null,
   "metadata": {},
   "outputs": [],
   "source": []
  }
 ],
 "metadata": {
  "kernelspec": {
   "name": "python376jvsc74a57bd03fc5b808f8562465652dbd4c9b703c447e1ef0b9f0c418fe16951da4a9cc8d3e",
   "display_name": "Python 3.7.6 64-bit ('base': conda)"
  },
  "language_info": {
   "codemirror_mode": {
    "name": "ipython",
    "version": 3
   },
   "file_extension": ".py",
   "mimetype": "text/x-python",
   "name": "python",
   "nbconvert_exporter": "python",
   "pygments_lexer": "ipython3",
   "version": "3.7.6"
  }
 },
 "nbformat": 4,
 "nbformat_minor": 2
}